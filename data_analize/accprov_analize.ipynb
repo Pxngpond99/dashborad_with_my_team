{
 "cells": [
  {
   "cell_type": "code",
   "execution_count": 14,
   "metadata": {},
   "outputs": [],
   "source": [
    "import pandas as pd\n",
    "df= pd.read_excel(\"data/dead_conso-3-54-65.xlsx\")\n",
    "df_2 = df"
   ]
  },
  {
   "cell_type": "code",
   "execution_count": 5,
   "metadata": {},
   "outputs": [],
   "source": [
    "df_1 = pd.read_csv('data/laclon.csv')"
   ]
  },
  {
   "cell_type": "code",
   "execution_count": 3,
   "metadata": {},
   "outputs": [
    {
     "data": {
      "text/plain": [
       "array(['อุดรธานี', 'ศรีสะเกษ', 'ชลบุรี', 'ขอนแก่น', 'นครศรีธรรมราช',\n",
       "       'ลพบุรี', 'อุบลราชธานี', 'สมุทรปราการ', 'นครสวรรค์', 'ยะลา',\n",
       "       'ตรัง', 'ยโสธร', 'นครพนม', 'สิงห์บุรี', 'สงขลา', 'นครปฐม',\n",
       "       'นครราชสีมา', 'เชียงใหม่', 'สุราษฎร์ธานี', 'ชุมพร', 'ฉะเชิงเทรา',\n",
       "       'ลำปาง', 'สระแก้ว', 'สตูล', 'พิษณุโลก', 'กาฬสินธุ์', 'ระยอง',\n",
       "       'สกลนคร', 'ปราจีนบุรี', 'ประจวบคีรีขันธ์', 'นราธิวาส', 'ชัยนาท',\n",
       "       'เลย', 'เชียงราย', 'ตราด', 'กำแพงเพชร', 'ร้อยเอ็ด', 'เพชรบูรณ์',\n",
       "       'นนทบุรี', 'พะเยา', 'สุรินทร์', 'บุรีรัมย์', 'หนองคาย', 'ปัตตานี',\n",
       "       'ราชบุรี', 'สระบุรี', 'สุพรรณบุรี', 'ชัยภูมิ', 'บึงกาฬ', 'แพร่',\n",
       "       'มหาสารคาม', 'ลำพูน', 'อ่างทอง', 'พังงา', 'กระบี่', 'กาญจนบุรี',\n",
       "       'อุทัยธานี', 'เพชรบุรี', 'หนองบัวลำภู', 'อุตรดิตถ์', 'พิจิตร',\n",
       "       'จันทบุรี', 'พระนครศรีอยุธยา', 'กรุงเทพมหานคร', 'ภูเก็ต',\n",
       "       'อำนาจเจริญ', 'พัทลุง', 'น่าน', 'นครนายก', 'มุกดาหาร', 'ปทุมธานี',\n",
       "       'สมุทรสงคราม', 'ระนอง', 'สุโขทัย', 'แม่ฮ่องสอน', 'ตาก',\n",
       "       'สมุทรสาคร', 'ไม่ทราบจังหวัด'], dtype=object)"
      ]
     },
     "execution_count": 3,
     "metadata": {},
     "output_type": "execute_result"
    }
   ],
   "source": [
    "\n",
    "df_2[\"AccProv\"].unique()"
   ]
  },
  {
   "cell_type": "code",
   "execution_count": 6,
   "metadata": {},
   "outputs": [
    {
     "data": {
      "text/plain": [
       "array(['กรุงเทพมหานคร', 'กระบี่', 'กาญจนบุรี', 'กาฬสินธุ์', 'กำแพงเพชร',\n",
       "       'ขอนแก่น', 'จันทบุรี', 'ฉะเชิงเทรา', 'ชลบุรี', 'ชัยนาท', 'ชัยภูมิ',\n",
       "       'ชุมพร', 'เชียงราย', 'เชียงใหม่', 'ตรัง', 'ตราด', 'ตาก', 'นครนายก',\n",
       "       'นครปฐม', 'นครพนม', 'นคราชสีมา', 'นครสวรรค์', 'นครศรีธรรมราช',\n",
       "       'นนทบุรี', 'นราธิวาส', 'น่าน', 'บุรีรัมย์', 'ปทุมธานี',\n",
       "       'ประจวบคีรีขันธ์', 'ปราจีนบุรี', 'ปัตตานี', 'พระนครศรีอยุธยา',\n",
       "       'พะเยา', 'พังงา', 'พัทลุง', 'พิจิตร', 'พิษณุโลก', 'เพชรบุรี',\n",
       "       'เพชรบูรณ์', 'แพร่', 'ภูเก็ต', 'มหาสารคาม', 'มุกดาหาร',\n",
       "       'แม่ฮ่องสอน', 'ยโสธร', 'ยะลา', 'ร้อยเอ็ด', 'ระนอง', 'ระยอง',\n",
       "       'ราชบุรี', 'ลพบุรี', 'ลำปาง', 'ลำพูน', 'เลย', 'ศรีสะเกษ', 'สกลนคร',\n",
       "       'สงขลา', 'สตูล', 'สมุทรปราการ', 'สมุทรสงคราม', 'สมุทรสาคร',\n",
       "       'สระแก้ว', 'สระบุรี', 'สิงห์บุรี', 'สุโขทัย', 'สุพรรณบุรี',\n",
       "       'สุราษฎร์ธานี', 'สุรินทร์', 'หนองคาย', 'หนองบัวลำภู', 'อ่างทอง',\n",
       "       'อำนาจเจริญ', 'อุดรธานี', 'อุตรดิตถ์', 'อุทัยธานี', 'อุบลราชธานี',\n",
       "       'บึงกาฬ'], dtype=object)"
      ]
     },
     "execution_count": 6,
     "metadata": {},
     "output_type": "execute_result"
    }
   ],
   "source": [
    "df_1['ชื่อ'].unique()"
   ]
  },
  {
   "cell_type": "code",
   "execution_count": 10,
   "metadata": {},
   "outputs": [
    {
     "name": "stdout",
     "output_type": "stream",
     "text": [
      "นคราชสีมา\n"
     ]
    }
   ],
   "source": [
    "for x in [i for i in df_1['ชื่อ'].unique()]:\n",
    "    if x not in [j for j in df['AccProv'].unique()]:\n",
    "        print(x)"
   ]
  },
  {
   "cell_type": "code",
   "execution_count": 17,
   "metadata": {},
   "outputs": [
    {
     "data": {
      "text/html": [
       "<div>\n",
       "<style scoped>\n",
       "    .dataframe tbody tr th:only-of-type {\n",
       "        vertical-align: middle;\n",
       "    }\n",
       "\n",
       "    .dataframe tbody tr th {\n",
       "        vertical-align: top;\n",
       "    }\n",
       "\n",
       "    .dataframe thead th {\n",
       "        text-align: right;\n",
       "    }\n",
       "</style>\n",
       "<table border=\"1\" class=\"dataframe\">\n",
       "  <thead>\n",
       "    <tr style=\"text-align: right;\">\n",
       "      <th></th>\n",
       "      <th>ชื่อ</th>\n",
       "      <th>lac</th>\n",
       "      <th>lon</th>\n",
       "    </tr>\n",
       "  </thead>\n",
       "  <tbody>\n",
       "    <tr>\n",
       "      <th>0</th>\n",
       "      <td>กรุงเทพมหานคร</td>\n",
       "      <td>13.727896</td>\n",
       "      <td>100.524123</td>\n",
       "    </tr>\n",
       "    <tr>\n",
       "      <th>1</th>\n",
       "      <td>กระบี่</td>\n",
       "      <td>8.086300</td>\n",
       "      <td>98.906283</td>\n",
       "    </tr>\n",
       "    <tr>\n",
       "      <th>2</th>\n",
       "      <td>กาญจนบุรี</td>\n",
       "      <td>14.022780</td>\n",
       "      <td>99.532811</td>\n",
       "    </tr>\n",
       "    <tr>\n",
       "      <th>3</th>\n",
       "      <td>กาฬสินธุ์</td>\n",
       "      <td>16.431408</td>\n",
       "      <td>103.505876</td>\n",
       "    </tr>\n",
       "    <tr>\n",
       "      <th>4</th>\n",
       "      <td>กำแพงเพชร</td>\n",
       "      <td>16.482780</td>\n",
       "      <td>99.522662</td>\n",
       "    </tr>\n",
       "    <tr>\n",
       "      <th>...</th>\n",
       "      <td>...</td>\n",
       "      <td>...</td>\n",
       "      <td>...</td>\n",
       "    </tr>\n",
       "    <tr>\n",
       "      <th>72</th>\n",
       "      <td>อุดรธานี</td>\n",
       "      <td>17.413841</td>\n",
       "      <td>102.787233</td>\n",
       "    </tr>\n",
       "    <tr>\n",
       "      <th>73</th>\n",
       "      <td>อุตรดิตถ์</td>\n",
       "      <td>17.620089</td>\n",
       "      <td>100.099294</td>\n",
       "    </tr>\n",
       "    <tr>\n",
       "      <th>74</th>\n",
       "      <td>อุทัยธานี</td>\n",
       "      <td>15.383500</td>\n",
       "      <td>100.024553</td>\n",
       "    </tr>\n",
       "    <tr>\n",
       "      <th>75</th>\n",
       "      <td>อุบลราชธานี</td>\n",
       "      <td>15.228686</td>\n",
       "      <td>104.856422</td>\n",
       "    </tr>\n",
       "    <tr>\n",
       "      <th>76</th>\n",
       "      <td>บึงกาฬ</td>\n",
       "      <td>18.360910</td>\n",
       "      <td>103.646446</td>\n",
       "    </tr>\n",
       "  </tbody>\n",
       "</table>\n",
       "<p>77 rows × 3 columns</p>\n",
       "</div>"
      ],
      "text/plain": [
       "             ชื่อ        lac         lon\n",
       "0   กรุงเทพมหานคร  13.727896  100.524123\n",
       "1          กระบี่   8.086300   98.906283\n",
       "2       กาญจนบุรี  14.022780   99.532811\n",
       "3       กาฬสินธุ์  16.431408  103.505876\n",
       "4       กำแพงเพชร  16.482780   99.522662\n",
       "..            ...        ...         ...\n",
       "72       อุดรธานี  17.413841  102.787233\n",
       "73      อุตรดิตถ์  17.620089  100.099294\n",
       "74      อุทัยธานี  15.383500  100.024553\n",
       "75    อุบลราชธานี  15.228686  104.856422\n",
       "76         บึงกาฬ  18.360910  103.646446\n",
       "\n",
       "[77 rows x 3 columns]"
      ]
     },
     "execution_count": 17,
     "metadata": {},
     "output_type": "execute_result"
    }
   ],
   "source": [
    "df_1.groupby([\"ชื่อ\",'lac','lon'])\n",
    "df_1"
   ]
  },
  {
   "cell_type": "code",
   "execution_count": 15,
   "metadata": {},
   "outputs": [],
   "source": [
    "df_2['AccProv'] = df_2['AccProv'].replace('ไม่ทราบจังหวัด','กรุงเทพมหานคร')"
   ]
  },
  {
   "cell_type": "code",
   "execution_count": 16,
   "metadata": {},
   "outputs": [
    {
     "data": {
      "text/html": [
       "<div>\n",
       "<style scoped>\n",
       "    .dataframe tbody tr th:only-of-type {\n",
       "        vertical-align: middle;\n",
       "    }\n",
       "\n",
       "    .dataframe tbody tr th {\n",
       "        vertical-align: top;\n",
       "    }\n",
       "\n",
       "    .dataframe thead th {\n",
       "        text-align: right;\n",
       "    }\n",
       "</style>\n",
       "<table border=\"1\" class=\"dataframe\">\n",
       "  <thead>\n",
       "    <tr style=\"text-align: right;\">\n",
       "      <th></th>\n",
       "      <th>AccProv</th>\n",
       "      <th>counts</th>\n",
       "    </tr>\n",
       "  </thead>\n",
       "  <tbody>\n",
       "    <tr>\n",
       "      <th>0</th>\n",
       "      <td>กระบี่</td>\n",
       "      <td>1964</td>\n",
       "    </tr>\n",
       "    <tr>\n",
       "      <th>1</th>\n",
       "      <td>กรุงเทพมหานคร</td>\n",
       "      <td>9914</td>\n",
       "    </tr>\n",
       "    <tr>\n",
       "      <th>2</th>\n",
       "      <td>กาญจนบุรี</td>\n",
       "      <td>3597</td>\n",
       "    </tr>\n",
       "    <tr>\n",
       "      <th>3</th>\n",
       "      <td>กาฬสินธุ์</td>\n",
       "      <td>2841</td>\n",
       "    </tr>\n",
       "    <tr>\n",
       "      <th>4</th>\n",
       "      <td>กำแพงเพชร</td>\n",
       "      <td>2870</td>\n",
       "    </tr>\n",
       "    <tr>\n",
       "      <th>...</th>\n",
       "      <td>...</td>\n",
       "      <td>...</td>\n",
       "    </tr>\n",
       "    <tr>\n",
       "      <th>72</th>\n",
       "      <td>เพชรบุรี</td>\n",
       "      <td>2296</td>\n",
       "    </tr>\n",
       "    <tr>\n",
       "      <th>73</th>\n",
       "      <td>เพชรบูรณ์</td>\n",
       "      <td>4090</td>\n",
       "    </tr>\n",
       "    <tr>\n",
       "      <th>74</th>\n",
       "      <td>เลย</td>\n",
       "      <td>2371</td>\n",
       "    </tr>\n",
       "    <tr>\n",
       "      <th>75</th>\n",
       "      <td>แพร่</td>\n",
       "      <td>1675</td>\n",
       "    </tr>\n",
       "    <tr>\n",
       "      <th>76</th>\n",
       "      <td>แม่ฮ่องสอน</td>\n",
       "      <td>495</td>\n",
       "    </tr>\n",
       "  </tbody>\n",
       "</table>\n",
       "<p>77 rows × 2 columns</p>\n",
       "</div>"
      ],
      "text/plain": [
       "          AccProv  counts\n",
       "0          กระบี่    1964\n",
       "1   กรุงเทพมหานคร    9914\n",
       "2       กาญจนบุรี    3597\n",
       "3       กาฬสินธุ์    2841\n",
       "4       กำแพงเพชร    2870\n",
       "..            ...     ...\n",
       "72       เพชรบุรี    2296\n",
       "73      เพชรบูรณ์    4090\n",
       "74            เลย    2371\n",
       "75           แพร่    1675\n",
       "76     แม่ฮ่องสอน     495\n",
       "\n",
       "[77 rows x 2 columns]"
      ]
     },
     "execution_count": 16,
     "metadata": {},
     "output_type": "execute_result"
    }
   ],
   "source": [
    "df_2.groupby([\"AccProv\"]).size().reset_index(name='counts')"
   ]
  }
 ],
 "metadata": {
  "kernelspec": {
   "display_name": "Python 3",
   "language": "python",
   "name": "python3"
  },
  "language_info": {
   "codemirror_mode": {
    "name": "ipython",
    "version": 3
   },
   "file_extension": ".py",
   "mimetype": "text/x-python",
   "name": "python",
   "nbconvert_exporter": "python",
   "pygments_lexer": "ipython3",
   "version": "3.10.10"
  },
  "orig_nbformat": 4,
  "vscode": {
   "interpreter": {
    "hash": "44286e0ee83e6dfdbfde19921432955e462fac3ad1bddf1ffba6856e70b29f28"
   }
  }
 },
 "nbformat": 4,
 "nbformat_minor": 2
}
