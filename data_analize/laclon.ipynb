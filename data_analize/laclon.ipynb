{
 "cells": [
  {
   "cell_type": "code",
   "execution_count": 37,
   "metadata": {},
   "outputs": [
    {
     "data": {
      "text/plain": [
       "0     กรุงเทพมหานคร\n",
       "1            กระบี่\n",
       "2         กาญจนบุรี\n",
       "3         กาฬสินธุ์\n",
       "4         กำแพงเพชร\n",
       "          ...      \n",
       "72         อุดรธานี\n",
       "73        อุตรดิตถ์\n",
       "74        อุทัยธานี\n",
       "75      อุบลราชธานี\n",
       "76           บึงกาฬ\n",
       "Name: ชื่อ, Length: 77, dtype: object"
      ]
     },
     "execution_count": 37,
     "metadata": {},
     "output_type": "execute_result"
    }
   ],
   "source": [
    "import pandas as pd\n",
    "df= pd.read_csv('data\\laclon.csv')\n",
    "df['ชื่อ']"
   ]
  }
 ],
 "metadata": {
  "kernelspec": {
   "display_name": "Python 3",
   "language": "python",
   "name": "python3"
  },
  "language_info": {
   "codemirror_mode": {
    "name": "ipython",
    "version": 3
   },
   "file_extension": ".py",
   "mimetype": "text/x-python",
   "name": "python",
   "nbconvert_exporter": "python",
   "pygments_lexer": "ipython3",
   "version": "3.10.10"
  },
  "orig_nbformat": 4,
  "vscode": {
   "interpreter": {
    "hash": "65a440aeac0c89e2af7569e0aa53b64434c4b69eb6285e2b0d174d9bca190d54"
   }
  }
 },
 "nbformat": 4,
 "nbformat_minor": 2
}
