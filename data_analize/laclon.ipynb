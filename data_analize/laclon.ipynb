{
 "cells": [
  {
   "cell_type": "code",
   "execution_count": 37,
   "metadata": {},
   "outputs": [
    {
     "data": {
      "text/plain": [
       "0     กรุงเทพมหานคร\n",
       "1            กระบี่\n",
       "2         กาญจนบุรี\n",
       "3         กาฬสินธุ์\n",
       "4         กำแพงเพชร\n",
       "          ...      \n",
       "72         อุดรธานี\n",
       "73        อุตรดิตถ์\n",
       "74        อุทัยธานี\n",
       "75      อุบลราชธานี\n",
       "76           บึงกาฬ\n",
       "Name: ชื่อ, Length: 77, dtype: object"
      ]
     },
     "execution_count": 37,
     "metadata": {},
     "output_type": "execute_result"
    }
   ],
   "source": [
    "import pandas as pd\n",
    "df= pd.read_csv('data\\laclon.csv')\n",
    "df['ชื่อ']"
   ]
  }
 ],
 "metadata": {
  "kernelspec": {
   "display_name": "Python 3",
   "language": "python",
   "name": "python3"
  },
  "language_info": {
   "codemirror_mode": {
    "name": "ipython",
    "version": 3
   },
   "file_extension": ".py",
   "mimetype": "text/x-python",
   "name": "python",
   "nbconvert_exporter": "python",
   "pygments_lexer": "ipython3",
   "version": "3.9.13"
  },
  "orig_nbformat": 4,
  "vscode": {
   "interpreter": {
<<<<<<< HEAD
    "hash": "44286e0ee83e6dfdbfde19921432955e462fac3ad1bddf1ffba6856e70b29f28"
=======
    "hash": "7c3b9b87c6c35e3cebab2c43e30996a63857aeaec3b0b2d00902781a11bd70cc"
>>>>>>> d561423eb1c993c6f42ada208185ae974edc357a
   }
  }
 },
 "nbformat": 4,
 "nbformat_minor": 2
}
