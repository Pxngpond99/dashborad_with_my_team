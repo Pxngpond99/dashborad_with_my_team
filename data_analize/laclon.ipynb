{
 "cells": [
  {
   "cell_type": "code",
   "execution_count": 33,
   "metadata": {},
   "outputs": [
    {
     "data": {
      "text/plain": [
       "0     13.727896\n",
       "1      8.086300\n",
       "2     14.022780\n",
       "3     16.431408\n",
       "4     16.482780\n",
       "        ...    \n",
       "72    17.413841\n",
       "73    17.620089\n",
       "74    15.383500\n",
       "75    15.228686\n",
       "76    18.360910\n",
       "Name: 'lac', Length: 77, dtype: float64"
      ]
     },
     "execution_count": 33,
     "metadata": {},
     "output_type": "execute_result"
    }
   ],
   "source": [
    "import pandas as pd\n",
    "df= pd.read_csv('data\\laclon.csv')\n",
    "df[\"'lac'\"]"
   ]
  }
 ],
 "metadata": {
  "kernelspec": {
   "display_name": "Python 3",
   "language": "python",
   "name": "python3"
  },
  "language_info": {
   "codemirror_mode": {
    "name": "ipython",
    "version": 3
   },
   "file_extension": ".py",
   "mimetype": "text/x-python",
   "name": "python",
   "nbconvert_exporter": "python",
   "pygments_lexer": "ipython3",
   "version": "3.9.13"
  },
  "orig_nbformat": 4,
  "vscode": {
   "interpreter": {
    "hash": "7c3b9b87c6c35e3cebab2c43e30996a63857aeaec3b0b2d00902781a11bd70cc"
   }
  }
 },
 "nbformat": 4,
 "nbformat_minor": 2
}
